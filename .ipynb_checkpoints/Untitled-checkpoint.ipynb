{
 "cells": [
  {
   "cell_type": "markdown",
   "metadata": {},
   "source": [
    "Data Exploration of Baseball Data"
   ]
  },
  {
   "cell_type": "code",
   "execution_count": 69,
   "metadata": {
    "collapsed": false
   },
   "outputs": [
    {
     "name": "stdout",
     "output_type": "stream",
     "text": [
      "The autoreload extension is already loaded. To reload it, use:\n",
      "  %reload_ext autoreload\n"
     ]
    }
   ],
   "source": [
    "%load_ext autoreload\n",
    "\n",
    "%autoreload 2"
   ]
  },
  {
   "cell_type": "code",
   "execution_count": 70,
   "metadata": {
    "collapsed": false
   },
   "outputs": [],
   "source": [
    "import general_utils as Ugen\n",
    "\n",
    "\n",
    "#GET DATA\n",
    "filepath='/Users/whitesi/Documents/Programming/Python/Data Analyst ND/UD170/baseballdata/'\n",
    "pitchers=Ugen.read_csv(filepath+'Pitching.csv')\n",
    "salaries=Ugen.read_csv(filepath+'Salaries.csv')\n"
   ]
  },
  {
   "cell_type": "code",
   "execution_count": 71,
   "metadata": {
    "collapsed": true
   },
   "outputs": [
    {
     "name": "stdout",
     "output_type": "stream",
     "text": [
      "{'teamID': 'PH1', 'playerID': 'bechtge01', 'yearID': '1871', 'SHO': '0', 'SH': '', 'L': '2', 'CG': '2', 'G': '3', 'BFP': '', 'BB': '11', 'W': '1', 'ERA': '7.96', 'lgID': 'NA', 'GS': '3', 'BK': '0', 'SO': '1', 'IBB': '', 'HR': '0', 'H': '43', 'IPouts': '78', 'ER': '23', 'HBP': '', 'GIDP': '', 'R': '42', 'SV': '0', 'stint': '1', 'GF': '', 'SF': '', 'BAOpp': '', 'WP': ''}\n",
      "{'teamID': 'WS3', 'playerID': 'brainas01', 'yearID': '1871', 'SHO': '0', 'SH': '', 'L': '15', 'CG': '30', 'G': '30', 'BFP': '', 'BB': '37', 'W': '12', 'ERA': '4.5', 'lgID': 'NA', 'GS': '30', 'BK': '0', 'SO': '13', 'IBB': '', 'HR': '4', 'H': '361', 'IPouts': '792', 'ER': '132', 'HBP': '', 'GIDP': '', 'R': '292', 'SV': '0', 'stint': '1', 'GF': '', 'SF': '', 'BAOpp': '', 'WP': ''}\n",
      "{'teamID': 'NY2', 'playerID': 'fergubo01', 'yearID': '1871', 'SHO': '0', 'SH': '', 'L': '0', 'CG': '0', 'G': '1', 'BFP': '', 'BB': '0', 'W': '0', 'ERA': '27', 'lgID': 'NA', 'GS': '0', 'BK': '0', 'SO': '0', 'IBB': '', 'HR': '0', 'H': '8', 'IPouts': '3', 'ER': '3', 'HBP': '', 'GIDP': '', 'R': '9', 'SV': '0', 'stint': '1', 'GF': '', 'SF': '', 'BAOpp': '', 'WP': ''}\n",
      "{'teamID': 'RC1', 'playerID': 'fishech01', 'yearID': '1871', 'SHO': '1', 'SH': '', 'L': '16', 'CG': '22', 'G': '24', 'BFP': '', 'BB': '31', 'W': '4', 'ERA': '4.35', 'lgID': 'NA', 'GS': '24', 'BK': '0', 'SO': '15', 'IBB': '', 'HR': '3', 'H': '295', 'IPouts': '639', 'ER': '103', 'HBP': '', 'GIDP': '', 'R': '257', 'SV': '0', 'stint': '1', 'GF': '', 'SF': '', 'BAOpp': '', 'WP': ''}\n",
      "{'teamID': 'NY2', 'playerID': 'fleetfr01', 'yearID': '1871', 'SHO': '0', 'SH': '', 'L': '1', 'CG': '1', 'G': '1', 'BFP': '', 'BB': '3', 'W': '0', 'ERA': '10', 'lgID': 'NA', 'GS': '1', 'BK': '0', 'SO': '0', 'IBB': '', 'HR': '0', 'H': '20', 'IPouts': '27', 'ER': '10', 'HBP': '', 'GIDP': '', 'R': '21', 'SV': '0', 'stint': '1', 'GF': '', 'SF': '', 'BAOpp': '', 'WP': ''}\n",
      "{'teamID': 'ATL', 'lgID': 'NL', 'yearID': '1985', 'salary': '870000', 'playerID': 'barkele01'}\n",
      "{'teamID': 'ATL', 'lgID': 'NL', 'yearID': '1985', 'salary': '550000', 'playerID': 'bedrost01'}\n",
      "{'teamID': 'ATL', 'lgID': 'NL', 'yearID': '1985', 'salary': '545000', 'playerID': 'benedbr01'}\n",
      "{'teamID': 'ATL', 'lgID': 'NL', 'yearID': '1985', 'salary': '633333', 'playerID': 'campri01'}\n",
      "{'teamID': 'ATL', 'lgID': 'NL', 'yearID': '1985', 'salary': '625000', 'playerID': 'ceronri01'}\n"
     ]
    }
   ],
   "source": [
    "#EXPLORE DATA\n",
    "Ugen.explore_list(pitchers,5) #print first 5 entries\n",
    "Ugen.explore_list(salaries,5) #print first 5 entries"
   ]
  },
  {
   "cell_type": "markdown",
   "metadata": {},
   "source": [
    "Cleaning Data"
   ]
  },
  {
   "cell_type": "code",
   "execution_count": 72,
   "metadata": {
    "collapsed": true
   },
   "outputs": [],
   "source": [
    "##Determine which fields you want to be an integer,float,date type or left as a string\n",
    "float_fields=['ERA','BAOpp']\n",
    "int_fields=['yearID','stint','W','L','G','GS','CG','SHO','SV','IPOuts','H','ER','HR','BB','SO',\n",
    "\t\t\t\t'IBB','WP','HBP','BK','BFP','GF','R','SH','SF','GIDP']"
   ]
  },
  {
   "cell_type": "code",
   "execution_count": 73,
   "metadata": {
    "collapsed": true
   },
   "outputs": [
    {
     "name": "stdout",
     "output_type": "stream",
     "text": [
      "{'teamID': 'PH1', 'playerID': 'bechtge01', 'yearID': 1871, 'SHO': 0, 'SH': None, 'L': 2, 'CG': 2, 'G': 3, 'BFP': None, 'BB': 11, 'W': 1, 'ERA': 7.96, 'lgID': 'NA', 'GS': 3, 'BK': 0, 'SO': 1, 'IBB': None, 'HR': 0, 'H': 43, 'IPouts': '78', 'ER': 23, 'HBP': None, 'GIDP': None, 'R': 42, 'SV': 0, 'stint': 1, 'GF': None, 'SF': None, 'BAOpp': None, 'WP': None}\n",
      "{'teamID': 'WS3', 'playerID': 'brainas01', 'yearID': 1871, 'SHO': 0, 'SH': None, 'L': 15, 'CG': 30, 'G': 30, 'BFP': None, 'BB': 37, 'W': 12, 'ERA': 4.5, 'lgID': 'NA', 'GS': 30, 'BK': 0, 'SO': 13, 'IBB': None, 'HR': 4, 'H': 361, 'IPouts': '792', 'ER': 132, 'HBP': None, 'GIDP': None, 'R': 292, 'SV': 0, 'stint': 1, 'GF': None, 'SF': None, 'BAOpp': None, 'WP': None}\n",
      "{'teamID': 'NY2', 'playerID': 'fergubo01', 'yearID': 1871, 'SHO': 0, 'SH': None, 'L': 0, 'CG': 0, 'G': 1, 'BFP': None, 'BB': 0, 'W': 0, 'ERA': 27.0, 'lgID': 'NA', 'GS': 0, 'BK': 0, 'SO': 0, 'IBB': None, 'HR': 0, 'H': 8, 'IPouts': '3', 'ER': 3, 'HBP': None, 'GIDP': None, 'R': 9, 'SV': 0, 'stint': 1, 'GF': None, 'SF': None, 'BAOpp': None, 'WP': None}\n",
      "{'teamID': 'RC1', 'playerID': 'fishech01', 'yearID': 1871, 'SHO': 1, 'SH': None, 'L': 16, 'CG': 22, 'G': 24, 'BFP': None, 'BB': 31, 'W': 4, 'ERA': 4.35, 'lgID': 'NA', 'GS': 24, 'BK': 0, 'SO': 15, 'IBB': None, 'HR': 3, 'H': 295, 'IPouts': '639', 'ER': 103, 'HBP': None, 'GIDP': None, 'R': 257, 'SV': 0, 'stint': 1, 'GF': None, 'SF': None, 'BAOpp': None, 'WP': None}\n",
      "{'teamID': 'NY2', 'playerID': 'fleetfr01', 'yearID': 1871, 'SHO': 0, 'SH': None, 'L': 1, 'CG': 1, 'G': 1, 'BFP': None, 'BB': 3, 'W': 0, 'ERA': 10.0, 'lgID': 'NA', 'GS': 1, 'BK': 0, 'SO': 0, 'IBB': None, 'HR': 0, 'H': 20, 'IPouts': '27', 'ER': 10, 'HBP': None, 'GIDP': None, 'R': 21, 'SV': 0, 'stint': 1, 'GF': None, 'SF': None, 'BAOpp': None, 'WP': None}\n"
     ]
    }
   ],
   "source": [
    "##Convert the fields\n",
    "pitchers=Ugen.convert_csv_entries(pitchers,int_fields,float_fields,date_fields=[])\n",
    "salaries=Ugen.convert_csv_entries(salaries,int_fields=['yearID'],float_fields=[],date_fields=[])\n",
    "Ugen.explore_list(pitchers,5) #check converted data"
   ]
  },
  {
   "cell_type": "code",
   "execution_count": 74,
   "metadata": {
    "collapsed": false
   },
   "outputs": [
    {
     "name": "stdout",
     "output_type": "stream",
     "text": [
      "44139\n",
      "25575\n"
     ]
    }
   ],
   "source": [
    "print (len(pitchers))\n",
    "print (len(salaries))\n",
    "#Lengths are clearly not equal, find out what range of years is covered in each data set"
   ]
  },
  {
   "cell_type": "code",
   "execution_count": 75,
   "metadata": {
    "collapsed": false
   },
   "outputs": [],
   "source": [
    "pitchers_year_list=list({pitcher['yearID'] for pitcher in pitchers})\n",
    "salaries_year_list=list({salary['yearID'] for salary in salaries})"
   ]
  },
  {
   "cell_type": "code",
   "execution_count": 76,
   "metadata": {
    "collapsed": false
   },
   "outputs": [
    {
     "name": "stdout",
     "output_type": "stream",
     "text": [
      "[1871, 1872, 1873, 1874, 1875, 1876, 1877, 1878, 1879, 1880, 1881, 1882, 1883, 1884, 1885, 1886, 1887, 1888, 1889, 1890, 1891, 1892, 1893, 1894, 1895, 1896, 1897, 1898, 1899, 1900, 1901, 1902, 1903, 1904, 1905, 1906, 1907, 1908, 1909, 1910, 1911, 1912, 1913, 1914, 1915, 1916, 1917, 1918, 1919, 1920, 1921, 1922, 1923, 1924, 1925, 1926, 1927, 1928, 1929, 1930, 1931, 1932, 1933, 1934, 1935, 1936, 1937, 1938, 1939, 1940, 1941, 1942, 1943, 1944, 1945, 1946, 1947, 1948, 1949, 1950, 1951, 1952, 1953, 1954, 1955, 1956, 1957, 1958, 1959, 1960, 1961, 1962, 1963, 1964, 1965, 1966, 1967, 1968, 1969, 1970, 1971, 1972, 1973, 1974, 1975, 1976, 1977, 1978, 1979, 1980, 1981, 1982, 1983, 1984, 1985, 1986, 1987, 1988, 1989, 1990, 1991, 1992, 1993, 1994, 1995, 1996, 1997, 1998, 1999, 2000, 2001, 2002, 2003, 2004, 2005, 2006, 2007, 2008, 2009, 2010, 2011, 2012, 2013, 2014, 2015]\n"
     ]
    }
   ],
   "source": [
    "print (pitchers_year_list)"
   ]
  },
  {
   "cell_type": "code",
   "execution_count": 77,
   "metadata": {
    "collapsed": false
   },
   "outputs": [
    {
     "name": "stdout",
     "output_type": "stream",
     "text": [
      "[1985, 1986, 1987, 1988, 1989, 1990, 1991, 1992, 1993, 1994, 1995, 1996, 1997, 1998, 1999, 2000, 2001, 2002, 2003, 2004, 2005, 2006, 2007, 2008, 2009, 2010, 2011, 2012, 2013, 2014, 2015]\n"
     ]
    }
   ],
   "source": [
    "print (salaries_year_list)"
   ]
  },
  {
   "cell_type": "code",
   "execution_count": 78,
   "metadata": {
    "collapsed": false
   },
   "outputs": [
    {
     "name": "stdout",
     "output_type": "stream",
     "text": [
      "19159\n"
     ]
    }
   ],
   "source": [
    "#Clean up pitchers data table to eliminate years without salary data\n",
    "pitchers=[pitcher for pitcher in pitchers if pitcher['yearID'] in salaries_year_list]\n",
    "\n",
    "print (len(pitchers))"
   ]
  },
  {
   "cell_type": "code",
   "execution_count": 81,
   "metadata": {
    "collapsed": false
   },
   "outputs": [
    {
     "name": "stdout",
     "output_type": "stream",
     "text": [
      "[1985, 1986, 1987, 1988, 1989, 1990, 1991, 1992, 1993, 1994, 1995, 1996, 1997, 1998, 1999, 2000, 2001, 2002, 2003, 2004, 2005, 2006, 2007, 2008, 2009, 2010, 2011, 2012, 2013, 2014, 2015]\n"
     ]
    }
   ],
   "source": [
    "pitchers_year_list=list({pitcher['yearID'] for pitcher in pitchers})\n",
    "\n",
    "print (pitchers_year_list)"
   ]
  },
  {
   "cell_type": "markdown",
   "metadata": {},
   "source": [
    "Looks like there is now the same set of years in both datasets, however, the salaries data set still has more entries....will require further investigation.\n",
    "\n",
    "Note to future self: pick a certain year and start investigating from there...? Try and find players with multiple entries for one year (best starting point!!)"
   ]
  }
 ],
 "metadata": {
  "kernelspec": {
   "display_name": "Python 3",
   "language": "python",
   "name": "python3"
  },
  "language_info": {
   "codemirror_mode": {
    "name": "ipython",
    "version": 3
   },
   "file_extension": ".py",
   "mimetype": "text/x-python",
   "name": "python",
   "nbconvert_exporter": "python",
   "pygments_lexer": "ipython3",
   "version": "3.5.1"
  }
 },
 "nbformat": 4,
 "nbformat_minor": 0
}
